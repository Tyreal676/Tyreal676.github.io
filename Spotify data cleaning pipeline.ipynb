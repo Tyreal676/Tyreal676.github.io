{
 "cells": [
  {
   "cell_type": "code",
   "execution_count": 1,
   "metadata": {},
   "outputs": [],
   "source": [
    "import pandas as pd"
   ]
  },
  {
   "cell_type": "code",
   "execution_count": 2,
   "metadata": {},
   "outputs": [
    {
     "ename": "SyntaxError",
     "evalue": "invalid decimal literal (1461965339.py, line 1)",
     "output_type": "error",
     "traceback": [
      "\u001b[1;36m  Cell \u001b[1;32mIn[2], line 1\u001b[1;36m\u001b[0m\n\u001b[1;33m    https://drive.google.com/file/d/1XsLa1irI_y60hiOi0NGk-8gnCCSQN2N3/view?usp=sharing\u001b[0m\n\u001b[1;37m                                    ^\u001b[0m\n\u001b[1;31mSyntaxError\u001b[0m\u001b[1;31m:\u001b[0m invalid decimal literal\n"
     ]
    }
   ],
   "source": [
    "https://drive.google.com/file/d/1XsLa1irI_y60hiOi0NGk-8gnCCSQN2N3/view?usp=sharing\n",
    "\n",
    "#Spotify 1 data \n",
    "#From csv file on google drive with shareable link set to anyone can view "
   ]
  },
  {
   "cell_type": "code",
   "execution_count": 3,
   "metadata": {},
   "outputs": [],
   "source": [
    "a_url='https://drive.google.com/file/d/1XsLa1irI_y60hiOi0NGk-8gnCCSQN2N3/view?usp=sharing'\n",
    "path='https://drive.google.com/uc?id=' + a_url.split('/')[-2]\n",
    "Spotify_1_csv_data = pd.read_csv(path)"
   ]
  },
  {
   "cell_type": "code",
   "execution_count": 4,
   "metadata": {},
   "outputs": [
    {
     "name": "stdout",
     "output_type": "stream",
     "text": [
      "     Unnamed: 0                      track_name     artist.s._name  \\\n",
      "0           574                    Don't Be Shy   Tiï¿½ï¿½sto, Kar   \n",
      "1           638             Permission to Dance                BTS   \n",
      "2           608                            2055      Sleepy hallow   \n",
      "3           907                      Ferxxo 100               Feid   \n",
      "4           123                        Nonsense  Sabrina Carpenter   \n",
      "..          ...                             ...                ...   \n",
      "376         315                   Midnight Rain       Taylor Swift   \n",
      "377         863  Master of Puppets (Remastered)          Metallica   \n",
      "378         664                         Formula           Labrinth   \n",
      "379         764                             N95     Kendrick Lamar   \n",
      "380         789             Ensï¿½ï¿½ï¿½ï¿½ame           Bad Bunny   \n",
      "\n",
      "     artist_count  released_year  released_month  released_day  \\\n",
      "0               2           2021               8             1   \n",
      "1               1           2021               7             9   \n",
      "2               1           2021               4            14   \n",
      "3               1           2022               6             3   \n",
      "4               1           2022               7            15   \n",
      "..            ...            ...             ...           ...   \n",
      "376             1           2022              10            21   \n",
      "377             1           1986               3             3   \n",
      "378             1           2019              10             4   \n",
      "379             1           2022               5            13   \n",
      "380             1           2022               5             6   \n",
      "\n",
      "     in_spotify_playlists  in_spotify_charts    streams  ...  key   mode  \\\n",
      "0                    6026                  0  566954746  ...    B  Minor   \n",
      "1                    1801                  2  608334048  ...    A  Major   \n",
      "2                    2226                  0  624515457  ...   F#  Minor   \n",
      "3                    1647                 30  278920007  ...   G#  Minor   \n",
      "4                    2346                 27  342897938  ...   G#  Major   \n",
      "..                    ...                ...        ...  ...  ...    ...   \n",
      "376                  2612                  4  433356509  ...  NaN  Major   \n",
      "377                  6080                  0  704171068  ...    E  Minor   \n",
      "378                  3444                  7  554875730  ...    B  Major   \n",
      "379                  5542                  0  301242089  ...   D#  Minor   \n",
      "380                  1112                  3  279737940  ...   G#  Major   \n",
      "\n",
      "    danceability_.  valence_. energy_.  acousticness_. instrumentalness_.  \\\n",
      "0               77         51       79              20                  0   \n",
      "1               70         65       74               1                  0   \n",
      "2               78         65       52              46                  0   \n",
      "3               70         58       57              25                  0   \n",
      "4               74         68       68               3                  0   \n",
      "..             ...        ...      ...             ...                ...   \n",
      "376             64         18       37              72                  0   \n",
      "377             54         59       83               0                 44   \n",
      "378             57         23       66               4                  6   \n",
      "379             81         39       66              38                  0   \n",
      "380             81         77       79              19                  0   \n",
      "\n",
      "    liveness_.  speechiness_.  \\\n",
      "0           26              6   \n",
      "1           34              4   \n",
      "2           12             31   \n",
      "3           15              7   \n",
      "4           26              4   \n",
      "..         ...            ...   \n",
      "376         12              7   \n",
      "377         20              4   \n",
      "378         15              4   \n",
      "379         12             14   \n",
      "380         47              8   \n",
      "\n",
      "                                             cover_url  \n",
      "0                                            Not Found  \n",
      "1    https://i.scdn.co/image/ab67616d0000b273a7e481...  \n",
      "2    https://i.scdn.co/image/ab67616d0000b27378376f...  \n",
      "3    https://i.scdn.co/image/ab67616d0000b273b76486...  \n",
      "4    https://i.scdn.co/image/ab67616d0000b273700f7b...  \n",
      "..                                                 ...  \n",
      "376  https://i.scdn.co/image/ab67616d0000b273bb54dd...  \n",
      "377  https://i.scdn.co/image/ab67616d0000b273cad483...  \n",
      "378  https://i.scdn.co/image/ab67616d0000b27389c39b...  \n",
      "379  https://i.scdn.co/image/ab67616d0000b2732e0211...  \n",
      "380                                          Not Found  \n",
      "\n",
      "[381 rows x 26 columns]\n"
     ]
    }
   ],
   "source": [
    "print (Spotify_1_csv_data)"
   ]
  },
  {
   "cell_type": "code",
   "execution_count": 5,
   "metadata": {},
   "outputs": [
    {
     "ename": "SyntaxError",
     "evalue": "invalid decimal literal (2894215715.py, line 1)",
     "output_type": "error",
     "traceback": [
      "\u001b[1;36m  Cell \u001b[1;32mIn[5], line 1\u001b[1;36m\u001b[0m\n\u001b[1;33m    https://docs.google.com/spreadsheets/d/1CeVNC7YBvef2w8pT_0rErfuUxs5iuC5yoYoTSj9evfE/edit?usp=drive_link\u001b[0m\n\u001b[1;37m                                           ^\u001b[0m\n\u001b[1;31mSyntaxError\u001b[0m\u001b[1;31m:\u001b[0m invalid decimal literal\n"
     ]
    }
   ],
   "source": [
    "https://docs.google.com/spreadsheets/d/1CeVNC7YBvef2w8pT_0rErfuUxs5iuC5yoYoTSj9evfE/edit?usp=drive_link\n",
    "\n",
    "#Spotify 1 data\n",
    "#From google sheets on google drive with shareable link set to anyone can view "
   ]
  },
  {
   "cell_type": "code",
   "execution_count": 6,
   "metadata": {},
   "outputs": [],
   "source": [
    "sheet_name = 'Spotify_1_data' # replace with your own sheet name\n",
    "sheet_id = '1CeVNC7YBvef2w8pT_0rErfuUxs5iuC5yoYoTSj9evfE' # replace with your sheet's ID"
   ]
  },
  {
   "cell_type": "code",
   "execution_count": 7,
   "metadata": {},
   "outputs": [],
   "source": [
    "url = f\"https://docs.google.com/spreadsheets/d/{sheet_id}/gviz/tq?tqx=out:csv&sheet={sheet_name}\""
   ]
  },
  {
   "cell_type": "code",
   "execution_count": 8,
   "metadata": {},
   "outputs": [
    {
     "name": "stdout",
     "output_type": "stream",
     "text": [
      "     Unnamed: 0                      track_name     artist.s._name  \\\n",
      "0           574                    Don't Be Shy   Tiï¿½ï¿½sto, Kar   \n",
      "1           638             Permission to Dance                BTS   \n",
      "2           608                            2055      Sleepy hallow   \n",
      "3           907                      Ferxxo 100               Feid   \n",
      "4           123                        Nonsense  Sabrina Carpenter   \n",
      "..          ...                             ...                ...   \n",
      "376         315                   Midnight Rain       Taylor Swift   \n",
      "377         863  Master of Puppets (Remastered)          Metallica   \n",
      "378         664                         Formula           Labrinth   \n",
      "379         764                             N95     Kendrick Lamar   \n",
      "380         789             Ensï¿½ï¿½ï¿½ï¿½ame           Bad Bunny   \n",
      "\n",
      "     artist_count  released_year  released_month  released_day  \\\n",
      "0               2           2021               8             1   \n",
      "1               1           2021               7             9   \n",
      "2               1           2021               4            14   \n",
      "3               1           2022               6             3   \n",
      "4               1           2022               7            15   \n",
      "..            ...            ...             ...           ...   \n",
      "376             1           2022              10            21   \n",
      "377             1           1986               3             3   \n",
      "378             1           2019              10             4   \n",
      "379             1           2022               5            13   \n",
      "380             1           2022               5             6   \n",
      "\n",
      "     in_spotify_playlists  in_spotify_charts    streams  ...  key   mode  \\\n",
      "0                    6026                  0  566954746  ...    B  Minor   \n",
      "1                    1801                  2  608334048  ...    A  Major   \n",
      "2                    2226                  0  624515457  ...   F#  Minor   \n",
      "3                    1647                 30  278920007  ...   G#  Minor   \n",
      "4                    2346                 27  342897938  ...   G#  Major   \n",
      "..                    ...                ...        ...  ...  ...    ...   \n",
      "376                  2612                  4  433356509  ...  NaN  Major   \n",
      "377                  6080                  0  704171068  ...    E  Minor   \n",
      "378                  3444                  7  554875730  ...    B  Major   \n",
      "379                  5542                  0  301242089  ...   D#  Minor   \n",
      "380                  1112                  3  279737940  ...   G#  Major   \n",
      "\n",
      "    danceability_.  valence_. energy_.  acousticness_. instrumentalness_.  \\\n",
      "0               77         51       79              20                  0   \n",
      "1               70         65       74               1                  0   \n",
      "2               78         65       52              46                  0   \n",
      "3               70         58       57              25                  0   \n",
      "4               74         68       68               3                  0   \n",
      "..             ...        ...      ...             ...                ...   \n",
      "376             64         18       37              72                  0   \n",
      "377             54         59       83               0                 44   \n",
      "378             57         23       66               4                  6   \n",
      "379             81         39       66              38                  0   \n",
      "380             81         77       79              19                  0   \n",
      "\n",
      "    liveness_.  speechiness_.  \\\n",
      "0           26              6   \n",
      "1           34              4   \n",
      "2           12             31   \n",
      "3           15              7   \n",
      "4           26              4   \n",
      "..         ...            ...   \n",
      "376         12              7   \n",
      "377         20              4   \n",
      "378         15              4   \n",
      "379         12             14   \n",
      "380         47              8   \n",
      "\n",
      "                                             cover_url  \n",
      "0                                            Not Found  \n",
      "1    https://i.scdn.co/image/ab67616d0000b273a7e481...  \n",
      "2    https://i.scdn.co/image/ab67616d0000b27378376f...  \n",
      "3    https://i.scdn.co/image/ab67616d0000b273b76486...  \n",
      "4    https://i.scdn.co/image/ab67616d0000b273700f7b...  \n",
      "..                                                 ...  \n",
      "376  https://i.scdn.co/image/ab67616d0000b273bb54dd...  \n",
      "377  https://i.scdn.co/image/ab67616d0000b273cad483...  \n",
      "378  https://i.scdn.co/image/ab67616d0000b27389c39b...  \n",
      "379  https://i.scdn.co/image/ab67616d0000b2732e0211...  \n",
      "380                                          Not Found  \n",
      "\n",
      "[381 rows x 26 columns]\n"
     ]
    }
   ],
   "source": [
    "data = pd.read_csv(url)\n",
    "print(data)"
   ]
  },
  {
   "cell_type": "code",
   "execution_count": 9,
   "metadata": {},
   "outputs": [
    {
     "ename": "SyntaxError",
     "evalue": "invalid decimal literal (1715457853.py, line 1)",
     "output_type": "error",
     "traceback": [
      "\u001b[1;36m  Cell \u001b[1;32mIn[9], line 1\u001b[1;36m\u001b[0m\n\u001b[1;33m    https://drive.google.com/file/d/1XoBIxdGZrnTmmzyaKNS4-I692vtK2q-X/view?usp=sharing\u001b[0m\n\u001b[1;37m                                    ^\u001b[0m\n\u001b[1;31mSyntaxError\u001b[0m\u001b[1;31m:\u001b[0m invalid decimal literal\n"
     ]
    }
   ],
   "source": [
    "https://drive.google.com/file/d/1XoBIxdGZrnTmmzyaKNS4-I692vtK2q-X/view?usp=sharing\n",
    "\n",
    "#Spotify 2 data "
   ]
  },
  {
   "cell_type": "code",
   "execution_count": 10,
   "metadata": {},
   "outputs": [],
   "source": [
    "Spotify_2_url='https://drive.google.com/file/d/1XoBIxdGZrnTmmzyaKNS4-I692vtK2q-X/view?usp=sharing'\n",
    "Spotify_2_path='https://drive.google.com/uc?id=' + Spotify_2_url.split('/')[-2]\n",
    "Spotify_2_csv_data = pd.read_csv(Spotify_2_path)"
   ]
  },
  {
   "cell_type": "code",
   "execution_count": 11,
   "metadata": {},
   "outputs": [
    {
     "name": "stdout",
     "output_type": "stream",
     "text": [
      "     Unnamed: 0                               track_name  \\\n",
      "0           277        Shoong! (feat. LISA of BLACKPINK)   \n",
      "1           167  Every Breath You Take - Remastered 2003   \n",
      "2           103                                 Chemical   \n",
      "3           358                  Thought You Should Know   \n",
      "4           304                                    10:35   \n",
      "..          ...                                      ...   \n",
      "281         269                              Slut Me Out   \n",
      "282         869                                     POP!   \n",
      "283         726                                   Closer   \n",
      "284         613                         Every Summertime   \n",
      "285         132                                      OMG   \n",
      "\n",
      "               artist.s._name  artist_count  released_year  released_month  \\\n",
      "0               TAEYANG, Lisa             2           2023               4   \n",
      "1                  The Police             1           1983               1   \n",
      "2                 Post Malone             1           2023               4   \n",
      "3               Morgan Wallen             1           2022               5   \n",
      "4         Tiï¿½ï¿½sto, Tate M             2           2022              11   \n",
      "..                        ...           ...            ...             ...   \n",
      "281                NLE Choppa             1           2022               4   \n",
      "282                    Nayeon             1           2022               6   \n",
      "283  The Chainsmokers, Halsey             2           2016               5   \n",
      "284                      NIKI             1           2021               8   \n",
      "285                  NewJeans             1           2023               1   \n",
      "\n",
      "     released_day  in_spotify_playlists  in_spotify_charts     streams  ...  \\\n",
      "0              25                   351                  9    76910644  ...   \n",
      "1               6                 22439                 19  1593270737  ...   \n",
      "2              14                  2528                 39   172825906  ...   \n",
      "3               6                   968                  4   203221468  ...   \n",
      "4               1                  4942                 26   325592432  ...   \n",
      "..            ...                   ...                ...         ...  ...   \n",
      "281            22                   816                  4   190490915  ...   \n",
      "282            24                   571                  0   213505179  ...   \n",
      "283            31                 28032                  0  2591224264  ...   \n",
      "284            10                  1211                  2   290228626  ...   \n",
      "285             2                  1783                 27   430977451  ...   \n",
      "\n",
      "     key   mode danceability_.  valence_. energy_.  acousticness_.  \\\n",
      "0      B  Minor             76         26       70               1   \n",
      "1     C#  Major             82         73       45              54   \n",
      "2      D  Major             50         37       90               0   \n",
      "3     F#  Major             53         51       70              49   \n",
      "4     G#  Major             70         70       79               7   \n",
      "..   ...    ...            ...        ...      ...             ...   \n",
      "281   F#  Minor             94         71       61              12   \n",
      "282    D  Major             80         36       86               4   \n",
      "283   G#  Major             75         64       52              41   \n",
      "284   F#  Major             63         76       67              38   \n",
      "285    A  Minor             80         74       77              36   \n",
      "\n",
      "    instrumentalness_. liveness_.  speechiness_.  \\\n",
      "0                    0         41              6   \n",
      "1                    0          7              3   \n",
      "2                    0         12              5   \n",
      "3                    0         14              3   \n",
      "4                    0         18             10   \n",
      "..                 ...        ...            ...   \n",
      "281                  0         53             42   \n",
      "282                  0          3              5   \n",
      "283                  0         11              3   \n",
      "284                  0          6              4   \n",
      "285                  0         11              4   \n",
      "\n",
      "                                             cover_url  \n",
      "0    https://i.scdn.co/image/ab67616d0000b273463132...  \n",
      "1    https://i.scdn.co/image/ab67616d0000b2730408dc...  \n",
      "2    https://i.scdn.co/image/ab67616d0000b273f76f8d...  \n",
      "3    https://i.scdn.co/image/ab67616d0000b273705079...  \n",
      "4                                            Not Found  \n",
      "..                                                 ...  \n",
      "281  https://i.scdn.co/image/ab67616d0000b27349a4f6...  \n",
      "282  https://i.scdn.co/image/ab67616d0000b2735fb4a9...  \n",
      "283  https://i.scdn.co/image/ab67616d0000b273495ce6...  \n",
      "284  https://i.scdn.co/image/ab67616d0000b273d00cc2...  \n",
      "285  https://i.scdn.co/image/ab67616d0000b273d70036...  \n",
      "\n",
      "[286 rows x 26 columns]\n"
     ]
    }
   ],
   "source": [
    "print (Spotify_2_csv_data)"
   ]
  },
  {
   "cell_type": "code",
   "execution_count": 12,
   "metadata": {},
   "outputs": [
    {
     "ename": "SyntaxError",
     "evalue": "invalid decimal literal (4101694487.py, line 1)",
     "output_type": "error",
     "traceback": [
      "\u001b[1;36m  Cell \u001b[1;32mIn[12], line 1\u001b[1;36m\u001b[0m\n\u001b[1;33m    https://drive.google.com/file/d/1XnjLLT-0W0xYmGgMHWRIwwaqA2WS1Re2/view?usp=sharing\u001b[0m\n\u001b[1;37m                                    ^\u001b[0m\n\u001b[1;31mSyntaxError\u001b[0m\u001b[1;31m:\u001b[0m invalid decimal literal\n"
     ]
    }
   ],
   "source": [
    "https://drive.google.com/file/d/1XnjLLT-0W0xYmGgMHWRIwwaqA2WS1Re2/view?usp=sharing\n",
    "\n",
    "#Spotify 3 Data"
   ]
  },
  {
   "cell_type": "code",
   "execution_count": 13,
   "metadata": {},
   "outputs": [],
   "source": [
    "Spotify_3_url='https://drive.google.com/file/d/1XnjLLT-0W0xYmGgMHWRIwwaqA2WS1Re2/view?usp=sharing'\n",
    "Spotify_3_path='https://drive.google.com/uc?id=' + Spotify_3_url.split('/')[-2]\n",
    "Spotify_3_csv_data = pd.read_csv(Spotify_3_path)"
   ]
  },
  {
   "cell_type": "code",
   "execution_count": 14,
   "metadata": {},
   "outputs": [
    {
     "name": "stdout",
     "output_type": "stream",
     "text": [
      "     Unnamed: 0                           track_name  \\\n",
      "0           456                       Seek & Destroy   \n",
      "1           718  Bohemian Rhapsody - Remastered 2011   \n",
      "2           561                         Life Goes On   \n",
      "3           301                      REMIX EXCLUSIVO   \n",
      "4           817                             FEARLESS   \n",
      "..          ...                                  ...   \n",
      "186          62                   Boy's a liar Pt. 2   \n",
      "187         930            Bamba (feat. Aitch & BIA)   \n",
      "188         918                               Poland   \n",
      "189         735                           In My Head   \n",
      "190         445                     Jingle Bell Rock   \n",
      "\n",
      "                artist.s._name  artist_count  released_year  released_month  \\\n",
      "0                          SZA             1           2022              12   \n",
      "1                        Queen             1           1975              10   \n",
      "2                  Oliver Tree             1           2020               7   \n",
      "3                         Feid             1           2023               3   \n",
      "4                  LE SSERAFIM             1           2022               5   \n",
      "..                         ...           ...            ...             ...   \n",
      "186  PinkPantheress, Ice Spice             2           2023               2   \n",
      "187       Luciano, Aitch, Bï¿½             3           2022               9   \n",
      "188                 Lil Yachty             1           2022               6   \n",
      "189                   Lil Tjay             1           2022               4   \n",
      "190                Bobby Helms             1           1957               1   \n",
      "\n",
      "     released_day  in_spotify_playlists  in_spotify_charts     streams  ...  \\\n",
      "0               9                  1007                  0    98709329  ...   \n",
      "1              31                 40112                  3  2197010679  ...   \n",
      "2              17                  2868                  0   501541661  ...   \n",
      "3              17                  1235                  9   117206995  ...   \n",
      "4               2                   629                  0   229497852  ...   \n",
      "..            ...                   ...                ...         ...  ...   \n",
      "186             3                  5184                 41   156338624  ...   \n",
      "187            22                   869                  7   146223492  ...   \n",
      "188            23                  1584                  0   115331792  ...   \n",
      "189             1                  1185                  0   190981339  ...   \n",
      "190             1                 10326                  0   741301563  ...   \n",
      "\n",
      "     key   mode danceability_.  valence_.  energy_.  acousticness_.  \\\n",
      "0     C#  Major             65         35        65              44   \n",
      "1    NaN  Minor             41         23        40              27   \n",
      "2    NaN  Major             70         57        49              19   \n",
      "3      F  Minor             65         71        56               4   \n",
      "4      G  Major             86         43        62               5   \n",
      "..   ...    ...            ...        ...       ...             ...   \n",
      "186    F  Major             70         86        81              25   \n",
      "187   A#  Major             80         82        81              14   \n",
      "188    F  Minor             70         26        56              14   \n",
      "189   C#  Major             68         41        55              16   \n",
      "190    D  Major             74         78        37              84   \n",
      "\n",
      "    instrumentalness_. liveness_.  speechiness_.  \\\n",
      "0                   18         21              7   \n",
      "1                    0         30              5   \n",
      "2                    0         12              8   \n",
      "3                    0         15             20   \n",
      "4                    0         13             14   \n",
      "..                 ...        ...            ...   \n",
      "186                  0         25              5   \n",
      "187                  0         13             36   \n",
      "188                 83         11              5   \n",
      "189                  0         10             12   \n",
      "190                  0          6              3   \n",
      "\n",
      "                                             cover_url  \n",
      "0    https://i.scdn.co/image/ab67616d0000b27370dbc9...  \n",
      "1    https://i.scdn.co/image/ab67616d0000b273ce4f17...  \n",
      "2    https://i.scdn.co/image/ab67616d0000b2731c5a48...  \n",
      "3    https://i.scdn.co/image/ab67616d0000b273adf20f...  \n",
      "4    https://i.scdn.co/image/ab67616d0000b273903018...  \n",
      "..                                                 ...  \n",
      "186  https://i.scdn.co/image/ab67616d0000b27342c5ba...  \n",
      "187  https://i.scdn.co/image/ab67616d0000b27348064e...  \n",
      "188  https://i.scdn.co/image/ab67616d0000b273615d69...  \n",
      "189  https://i.scdn.co/image/ab67616d0000b2731e6a9d...  \n",
      "190  https://i.scdn.co/image/ab67616d0000b273fd56f3...  \n",
      "\n",
      "[191 rows x 26 columns]\n"
     ]
    }
   ],
   "source": [
    "print (Spotify_3_csv_data)"
   ]
  },
  {
   "cell_type": "code",
   "execution_count": 15,
   "metadata": {},
   "outputs": [
    {
     "ename": "SyntaxError",
     "evalue": "invalid decimal literal (2680961322.py, line 1)",
     "output_type": "error",
     "traceback": [
      "\u001b[1;36m  Cell \u001b[1;32mIn[15], line 1\u001b[1;36m\u001b[0m\n\u001b[1;33m    https://drive.google.com/file/d/1XlvC8S3z7a698BzXQ4XoPdIAEzMzk_-9/view?usp=sharing\u001b[0m\n\u001b[1;37m                                    ^\u001b[0m\n\u001b[1;31mSyntaxError\u001b[0m\u001b[1;31m:\u001b[0m invalid decimal literal\n"
     ]
    }
   ],
   "source": [
    "https://drive.google.com/file/d/1XlvC8S3z7a698BzXQ4XoPdIAEzMzk_-9/view?usp=sharing\n",
    "\n",
    "#Spotify 4 Data"
   ]
  },
  {
   "cell_type": "code",
   "execution_count": 16,
   "metadata": {},
   "outputs": [],
   "source": [
    "Spotify_4_url='https://drive.google.com/file/d/1XlvC8S3z7a698BzXQ4XoPdIAEzMzk_-9/view?usp=sharing'\n",
    "Spotify_4_path='https://drive.google.com/uc?id=' + Spotify_4_url.split('/')[-2]\n",
    "Spotify_4_csv_data = pd.read_csv(Spotify_4_path)"
   ]
  },
  {
   "cell_type": "code",
   "execution_count": 17,
   "metadata": {},
   "outputs": [
    {
     "name": "stdout",
     "output_type": "stream",
     "text": [
      "    Unnamed: 0                                     track_name  \\\n",
      "0          875                                         Sticky   \n",
      "1           86                                    El Merengue   \n",
      "2          233  Lilith (feat. SUGA of BTS) (Diablo IV Anthem)   \n",
      "3          362    I Like You (A Happier Song) (with Doja Cat)   \n",
      "4          243                                Just Wanna Rock   \n",
      "..         ...                                            ...   \n",
      "90         151                                 Mi Bello Angel   \n",
      "91         452                                  Feliz Navidad   \n",
      "92          12                                      Super Shy   \n",
      "93         740                            Cool for the Summer   \n",
      "94         432     Evergreen (You Didnï¿½ï¿½ï¿½t Deserve Me A   \n",
      "\n",
      "               artist.s._name  artist_count  released_year  released_month  \\\n",
      "0                       Drake             1           2022               6   \n",
      "1   Marshmello, Manuel Turizo             2           2023               3   \n",
      "2                Halsey, Suga             2           2023               6   \n",
      "3       Post Malone, Doja Cat             2           2022               6   \n",
      "4                Lil Uzi Vert             1           2022              10   \n",
      "..                        ...           ...            ...             ...   \n",
      "90              Natanael Cano             1           2023               6   \n",
      "91            Josï¿½ï¿½ Felic             1           1970              11   \n",
      "92                   NewJeans             1           2023               7   \n",
      "93                Demi Lovato             1           2015               1   \n",
      "94                Omar Apollo             1           2022               4   \n",
      "\n",
      "    released_day  in_spotify_playlists  in_spotify_charts    streams  ...  \\\n",
      "0             17                  2814                  0  191448892  ...   \n",
      "1              3                  2114                 44  223633238  ...   \n",
      "2              5                   215                  6   51985779  ...   \n",
      "3              3                  5281                 14  609293408  ...   \n",
      "4             17                  3995                 13  457184829  ...   \n",
      "..           ...                   ...                ...        ...  ...   \n",
      "90            30                    86                  8   31873544  ...   \n",
      "91             1                  3788                  0  520034544  ...   \n",
      "92             7                   422                 55   58255150  ...   \n",
      "93             1                  9243                  0  677389855  ...   \n",
      "94             8                  2499                  0  227918678  ...   \n",
      "\n",
      "    key   mode danceability_.  valence_. energy_.  acousticness_.  \\\n",
      "0    A#  Minor             88          8       49               9   \n",
      "1    G#  Minor             78         70       68               3   \n",
      "2     A  Minor             43         14       74               1   \n",
      "3     F  Major             74         43       69              12   \n",
      "4     B  Major             49          4       55               7   \n",
      "..  ...    ...            ...        ...      ...             ...   \n",
      "90    A  Minor             81         90       77               1   \n",
      "91    D  Major             50         96       82              47   \n",
      "92    F  Minor             78         52       82              18   \n",
      "93    F  Minor             59         30       62               1   \n",
      "94    A  Major             70         31       34              60   \n",
      "\n",
      "   instrumentalness_. liveness_.  speechiness_.  \\\n",
      "0                   0          9             14   \n",
      "1                   1         11              4   \n",
      "2                   0         19              8   \n",
      "3                   0         12              7   \n",
      "4                   0          6              3   \n",
      "..                ...        ...            ...   \n",
      "90                  0          9              5   \n",
      "91                  0         34              4   \n",
      "92                  0         15              7   \n",
      "93                  0          8              4   \n",
      "94                  1         11              4   \n",
      "\n",
      "                                            cover_url  \n",
      "0   https://i.scdn.co/image/ab67616d0000b2738dc0d8...  \n",
      "1   https://i.scdn.co/image/ab67616d0000b273f40467...  \n",
      "2   https://i.scdn.co/image/ab67616d0000b273f19310...  \n",
      "3   https://i.scdn.co/image/ab67616d0000b273343626...  \n",
      "4   https://i.scdn.co/image/ab67616d0000b273438799...  \n",
      "..                                                ...  \n",
      "90  https://i.scdn.co/image/ab67616d0000b273e2e093...  \n",
      "91                                          Not Found  \n",
      "92  https://i.scdn.co/image/ab67616d0000b2733d98a0...  \n",
      "93  https://i.scdn.co/image/ab67616d0000b273ed164c...  \n",
      "94                                          Not Found  \n",
      "\n",
      "[95 rows x 26 columns]\n"
     ]
    }
   ],
   "source": [
    "print(Spotify_4_csv_data)"
   ]
  },
  {
   "cell_type": "code",
   "execution_count": 18,
   "metadata": {},
   "outputs": [
    {
     "name": "stdout",
     "output_type": "stream",
     "text": [
      "                         track_name     artist.s._name    streams\n",
      "0                      Don't Be Shy   Tiï¿½ï¿½sto, Kar  566954746\n",
      "1               Permission to Dance                BTS  608334048\n",
      "2                              2055      Sleepy hallow  624515457\n",
      "3                        Ferxxo 100               Feid  278920007\n",
      "4                          Nonsense  Sabrina Carpenter  342897938\n",
      "..                              ...                ...        ...\n",
      "376                   Midnight Rain       Taylor Swift  433356509\n",
      "377  Master of Puppets (Remastered)          Metallica  704171068\n",
      "378                         Formula           Labrinth  554875730\n",
      "379                             N95     Kendrick Lamar  301242089\n",
      "380             Ensï¿½ï¿½ï¿½ï¿½ame           Bad Bunny  279737940\n",
      "\n",
      "[381 rows x 3 columns]\n"
     ]
    }
   ],
   "source": [
    "Merging_Spotify_data = Spotify_1_csv_data[['track_name', 'artist.s._name', 'streams']]\n",
    "\n",
    "print(Merging_Spotify_data)"
   ]
  },
  {
   "cell_type": "code",
   "execution_count": 19,
   "metadata": {},
   "outputs": [
    {
     "name": "stdout",
     "output_type": "stream",
     "text": [
      "              track_name            artist.s._name     streams  Unnamed: 0  \\\n",
      "0           Don't Be Shy          Tiï¿½ï¿½sto, Kar   566954746         NaN   \n",
      "1    Permission to Dance                       BTS   608334048         NaN   \n",
      "2                   2055             Sleepy hallow   624515457         NaN   \n",
      "3             Ferxxo 100                      Feid   278920007         NaN   \n",
      "4               Nonsense         Sabrina Carpenter   342897938         NaN   \n",
      "..                   ...                       ...         ...         ...   \n",
      "281          Slut Me Out                NLE Choppa   190490915       269.0   \n",
      "282                 POP!                    Nayeon   213505179       869.0   \n",
      "283               Closer  The Chainsmokers, Halsey  2591224264       726.0   \n",
      "284     Every Summertime                      NIKI   290228626       613.0   \n",
      "285                  OMG                  NewJeans   430977451       132.0   \n",
      "\n",
      "     artist_count  released_year  released_month  released_day  \\\n",
      "0             NaN            NaN             NaN           NaN   \n",
      "1             NaN            NaN             NaN           NaN   \n",
      "2             NaN            NaN             NaN           NaN   \n",
      "3             NaN            NaN             NaN           NaN   \n",
      "4             NaN            NaN             NaN           NaN   \n",
      "..            ...            ...             ...           ...   \n",
      "281           1.0         2022.0             4.0          22.0   \n",
      "282           1.0         2022.0             6.0          24.0   \n",
      "283           2.0         2016.0             5.0          31.0   \n",
      "284           1.0         2021.0             8.0          10.0   \n",
      "285           1.0         2023.0             1.0           2.0   \n",
      "\n",
      "     in_spotify_playlists  in_spotify_charts  ...  key   mode danceability_.  \\\n",
      "0                     NaN                NaN  ...  NaN    NaN            NaN   \n",
      "1                     NaN                NaN  ...  NaN    NaN            NaN   \n",
      "2                     NaN                NaN  ...  NaN    NaN            NaN   \n",
      "3                     NaN                NaN  ...  NaN    NaN            NaN   \n",
      "4                     NaN                NaN  ...  NaN    NaN            NaN   \n",
      "..                    ...                ...  ...  ...    ...            ...   \n",
      "281                 816.0                4.0  ...   F#  Minor           94.0   \n",
      "282                 571.0                0.0  ...    D  Major           80.0   \n",
      "283               28032.0                0.0  ...   G#  Major           75.0   \n",
      "284                1211.0                2.0  ...   F#  Major           63.0   \n",
      "285                1783.0               27.0  ...    A  Minor           80.0   \n",
      "\n",
      "     valence_. energy_.  acousticness_. instrumentalness_. liveness_.  \\\n",
      "0          NaN      NaN             NaN                NaN        NaN   \n",
      "1          NaN      NaN             NaN                NaN        NaN   \n",
      "2          NaN      NaN             NaN                NaN        NaN   \n",
      "3          NaN      NaN             NaN                NaN        NaN   \n",
      "4          NaN      NaN             NaN                NaN        NaN   \n",
      "..         ...      ...             ...                ...        ...   \n",
      "281       71.0     61.0            12.0                0.0       53.0   \n",
      "282       36.0     86.0             4.0                0.0        3.0   \n",
      "283       64.0     52.0            41.0                0.0       11.0   \n",
      "284       76.0     67.0            38.0                0.0        6.0   \n",
      "285       74.0     77.0            36.0                0.0       11.0   \n",
      "\n",
      "     speechiness_.                                          cover_url  \n",
      "0              NaN                                                NaN  \n",
      "1              NaN                                                NaN  \n",
      "2              NaN                                                NaN  \n",
      "3              NaN                                                NaN  \n",
      "4              NaN                                                NaN  \n",
      "..             ...                                                ...  \n",
      "281           42.0  https://i.scdn.co/image/ab67616d0000b27349a4f6...  \n",
      "282            5.0  https://i.scdn.co/image/ab67616d0000b2735fb4a9...  \n",
      "283            3.0  https://i.scdn.co/image/ab67616d0000b273495ce6...  \n",
      "284            4.0  https://i.scdn.co/image/ab67616d0000b273d00cc2...  \n",
      "285            4.0  https://i.scdn.co/image/ab67616d0000b273d70036...  \n",
      "\n",
      "[667 rows x 26 columns]\n"
     ]
    }
   ],
   "source": [
    "More_merging = pd.concat ([Merging_Spotify_data, Spotify_2_csv_data])\n",
    "\n",
    "print(More_merging)"
   ]
  },
  {
   "cell_type": "code",
   "execution_count": 20,
   "metadata": {},
   "outputs": [
    {
     "name": "stdout",
     "output_type": "stream",
     "text": [
      "              track_name            artist.s._name     streams\n",
      "0           Don't Be Shy          Tiï¿½ï¿½sto, Kar   566954746\n",
      "1    Permission to Dance                       BTS   608334048\n",
      "2                   2055             Sleepy hallow   624515457\n",
      "3             Ferxxo 100                      Feid   278920007\n",
      "4               Nonsense         Sabrina Carpenter   342897938\n",
      "..                   ...                       ...         ...\n",
      "281          Slut Me Out                NLE Choppa   190490915\n",
      "282                 POP!                    Nayeon   213505179\n",
      "283               Closer  The Chainsmokers, Halsey  2591224264\n",
      "284     Every Summertime                      NIKI   290228626\n",
      "285                  OMG                  NewJeans   430977451\n",
      "\n",
      "[667 rows x 3 columns]\n"
     ]
    }
   ],
   "source": [
    "Extraction = More_merging[['track_name', 'artist.s._name', 'streams']]\n",
    "\n",
    "print(Extraction)"
   ]
  },
  {
   "cell_type": "code",
   "execution_count": 21,
   "metadata": {},
   "outputs": [
    {
     "name": "stdout",
     "output_type": "stream",
     "text": [
      "                    track_name             artist.s._name    streams  \\\n",
      "0                 Don't Be Shy           Tiï¿½ï¿½sto, Kar  566954746   \n",
      "1          Permission to Dance                        BTS  608334048   \n",
      "2                         2055              Sleepy hallow  624515457   \n",
      "3                   Ferxxo 100                       Feid  278920007   \n",
      "4                     Nonsense          Sabrina Carpenter  342897938   \n",
      "..                         ...                        ...        ...   \n",
      "186         Boy's a liar Pt. 2  PinkPantheress, Ice Spice  156338624   \n",
      "187  Bamba (feat. Aitch & BIA)       Luciano, Aitch, Bï¿½  146223492   \n",
      "188                     Poland                 Lil Yachty  115331792   \n",
      "189                 In My Head                   Lil Tjay  190981339   \n",
      "190           Jingle Bell Rock                Bobby Helms  741301563   \n",
      "\n",
      "     Unnamed: 0  artist_count  released_year  released_month  released_day  \\\n",
      "0           NaN           NaN            NaN             NaN           NaN   \n",
      "1           NaN           NaN            NaN             NaN           NaN   \n",
      "2           NaN           NaN            NaN             NaN           NaN   \n",
      "3           NaN           NaN            NaN             NaN           NaN   \n",
      "4           NaN           NaN            NaN             NaN           NaN   \n",
      "..          ...           ...            ...             ...           ...   \n",
      "186        62.0           2.0         2023.0             2.0           3.0   \n",
      "187       930.0           3.0         2022.0             9.0          22.0   \n",
      "188       918.0           1.0         2022.0             6.0          23.0   \n",
      "189       735.0           1.0         2022.0             4.0           1.0   \n",
      "190       445.0           1.0         1957.0             1.0           1.0   \n",
      "\n",
      "     in_spotify_playlists  in_spotify_charts  ...  key   mode danceability_.  \\\n",
      "0                     NaN                NaN  ...  NaN    NaN            NaN   \n",
      "1                     NaN                NaN  ...  NaN    NaN            NaN   \n",
      "2                     NaN                NaN  ...  NaN    NaN            NaN   \n",
      "3                     NaN                NaN  ...  NaN    NaN            NaN   \n",
      "4                     NaN                NaN  ...  NaN    NaN            NaN   \n",
      "..                    ...                ...  ...  ...    ...            ...   \n",
      "186                5184.0               41.0  ...    F  Major           70.0   \n",
      "187                 869.0                7.0  ...   A#  Major           80.0   \n",
      "188                1584.0                0.0  ...    F  Minor           70.0   \n",
      "189                1185.0                0.0  ...   C#  Major           68.0   \n",
      "190               10326.0                0.0  ...    D  Major           74.0   \n",
      "\n",
      "     valence_.  energy_.  acousticness_. instrumentalness_. liveness_.  \\\n",
      "0          NaN       NaN             NaN                NaN        NaN   \n",
      "1          NaN       NaN             NaN                NaN        NaN   \n",
      "2          NaN       NaN             NaN                NaN        NaN   \n",
      "3          NaN       NaN             NaN                NaN        NaN   \n",
      "4          NaN       NaN             NaN                NaN        NaN   \n",
      "..         ...       ...             ...                ...        ...   \n",
      "186       86.0      81.0            25.0                0.0       25.0   \n",
      "187       82.0      81.0            14.0                0.0       13.0   \n",
      "188       26.0      56.0            14.0               83.0       11.0   \n",
      "189       41.0      55.0            16.0                0.0       10.0   \n",
      "190       78.0      37.0            84.0                0.0        6.0   \n",
      "\n",
      "     speechiness_.                                          cover_url  \n",
      "0              NaN                                                NaN  \n",
      "1              NaN                                                NaN  \n",
      "2              NaN                                                NaN  \n",
      "3              NaN                                                NaN  \n",
      "4              NaN                                                NaN  \n",
      "..             ...                                                ...  \n",
      "186            5.0  https://i.scdn.co/image/ab67616d0000b27342c5ba...  \n",
      "187           36.0  https://i.scdn.co/image/ab67616d0000b27348064e...  \n",
      "188            5.0  https://i.scdn.co/image/ab67616d0000b273615d69...  \n",
      "189           12.0  https://i.scdn.co/image/ab67616d0000b2731e6a9d...  \n",
      "190            3.0  https://i.scdn.co/image/ab67616d0000b273fd56f3...  \n",
      "\n",
      "[858 rows x 26 columns]\n"
     ]
    }
   ],
   "source": [
    "Even_more_merging = pd.concat ([Extraction, Spotify_3_csv_data])\n",
    "\n",
    "print (Even_more_merging)"
   ]
  },
  {
   "cell_type": "code",
   "execution_count": 22,
   "metadata": {},
   "outputs": [
    {
     "name": "stdout",
     "output_type": "stream",
     "text": [
      "                    track_name             artist.s._name    streams\n",
      "0                 Don't Be Shy           Tiï¿½ï¿½sto, Kar  566954746\n",
      "1          Permission to Dance                        BTS  608334048\n",
      "2                         2055              Sleepy hallow  624515457\n",
      "3                   Ferxxo 100                       Feid  278920007\n",
      "4                     Nonsense          Sabrina Carpenter  342897938\n",
      "..                         ...                        ...        ...\n",
      "186         Boy's a liar Pt. 2  PinkPantheress, Ice Spice  156338624\n",
      "187  Bamba (feat. Aitch & BIA)       Luciano, Aitch, Bï¿½  146223492\n",
      "188                     Poland                 Lil Yachty  115331792\n",
      "189                 In My Head                   Lil Tjay  190981339\n",
      "190           Jingle Bell Rock                Bobby Helms  741301563\n",
      "\n",
      "[858 rows x 3 columns]\n"
     ]
    }
   ],
   "source": [
    "Even_more_extraction = Even_more_merging[['track_name', 'artist.s._name', 'streams']]\n",
    "\n",
    "print(Even_more_extraction)"
   ]
  },
  {
   "cell_type": "code",
   "execution_count": 23,
   "metadata": {},
   "outputs": [
    {
     "name": "stdout",
     "output_type": "stream",
     "text": [
      "                                    track_name     artist.s._name    streams  \\\n",
      "0                                 Don't Be Shy   Tiï¿½ï¿½sto, Kar  566954746   \n",
      "1                          Permission to Dance                BTS  608334048   \n",
      "2                                         2055      Sleepy hallow  624515457   \n",
      "3                                   Ferxxo 100               Feid  278920007   \n",
      "4                                     Nonsense  Sabrina Carpenter  342897938   \n",
      "..                                         ...                ...        ...   \n",
      "90                              Mi Bello Angel      Natanael Cano   31873544   \n",
      "91                               Feliz Navidad    Josï¿½ï¿½ Felic  520034544   \n",
      "92                                   Super Shy           NewJeans   58255150   \n",
      "93                         Cool for the Summer        Demi Lovato  677389855   \n",
      "94  Evergreen (You Didnï¿½ï¿½ï¿½t Deserve Me A        Omar Apollo  227918678   \n",
      "\n",
      "    Unnamed: 0  artist_count  released_year  released_month  released_day  \\\n",
      "0          NaN           NaN            NaN             NaN           NaN   \n",
      "1          NaN           NaN            NaN             NaN           NaN   \n",
      "2          NaN           NaN            NaN             NaN           NaN   \n",
      "3          NaN           NaN            NaN             NaN           NaN   \n",
      "4          NaN           NaN            NaN             NaN           NaN   \n",
      "..         ...           ...            ...             ...           ...   \n",
      "90       151.0           1.0         2023.0             6.0          30.0   \n",
      "91       452.0           1.0         1970.0            11.0           1.0   \n",
      "92        12.0           1.0         2023.0             7.0           7.0   \n",
      "93       740.0           1.0         2015.0             1.0           1.0   \n",
      "94       432.0           1.0         2022.0             4.0           8.0   \n",
      "\n",
      "    in_spotify_playlists  in_spotify_charts  ...  key   mode danceability_.  \\\n",
      "0                    NaN                NaN  ...  NaN    NaN            NaN   \n",
      "1                    NaN                NaN  ...  NaN    NaN            NaN   \n",
      "2                    NaN                NaN  ...  NaN    NaN            NaN   \n",
      "3                    NaN                NaN  ...  NaN    NaN            NaN   \n",
      "4                    NaN                NaN  ...  NaN    NaN            NaN   \n",
      "..                   ...                ...  ...  ...    ...            ...   \n",
      "90                  86.0                8.0  ...    A  Minor           81.0   \n",
      "91                3788.0                0.0  ...    D  Major           50.0   \n",
      "92                 422.0               55.0  ...    F  Minor           78.0   \n",
      "93                9243.0                0.0  ...    F  Minor           59.0   \n",
      "94                2499.0                0.0  ...    A  Major           70.0   \n",
      "\n",
      "    valence_. energy_.  acousticness_. instrumentalness_. liveness_.  \\\n",
      "0         NaN      NaN             NaN                NaN        NaN   \n",
      "1         NaN      NaN             NaN                NaN        NaN   \n",
      "2         NaN      NaN             NaN                NaN        NaN   \n",
      "3         NaN      NaN             NaN                NaN        NaN   \n",
      "4         NaN      NaN             NaN                NaN        NaN   \n",
      "..        ...      ...             ...                ...        ...   \n",
      "90       90.0     77.0             1.0                0.0        9.0   \n",
      "91       96.0     82.0            47.0                0.0       34.0   \n",
      "92       52.0     82.0            18.0                0.0       15.0   \n",
      "93       30.0     62.0             1.0                0.0        8.0   \n",
      "94       31.0     34.0            60.0                1.0       11.0   \n",
      "\n",
      "    speechiness_.                                          cover_url  \n",
      "0             NaN                                                NaN  \n",
      "1             NaN                                                NaN  \n",
      "2             NaN                                                NaN  \n",
      "3             NaN                                                NaN  \n",
      "4             NaN                                                NaN  \n",
      "..            ...                                                ...  \n",
      "90            5.0  https://i.scdn.co/image/ab67616d0000b273e2e093...  \n",
      "91            4.0                                          Not Found  \n",
      "92            7.0  https://i.scdn.co/image/ab67616d0000b2733d98a0...  \n",
      "93            4.0  https://i.scdn.co/image/ab67616d0000b273ed164c...  \n",
      "94            4.0                                          Not Found  \n",
      "\n",
      "[953 rows x 26 columns]\n"
     ]
    }
   ],
   "source": [
    "The_final_merge = pd.concat ([Even_more_extraction, Spotify_4_csv_data])\n",
    "\n",
    "print(The_final_merge)"
   ]
  },
  {
   "cell_type": "code",
   "execution_count": 24,
   "metadata": {},
   "outputs": [
    {
     "name": "stdout",
     "output_type": "stream",
     "text": [
      "                                    track_name     artist.s._name    streams\n",
      "0                                 Don't Be Shy   Tiï¿½ï¿½sto, Kar  566954746\n",
      "1                          Permission to Dance                BTS  608334048\n",
      "2                                         2055      Sleepy hallow  624515457\n",
      "3                                   Ferxxo 100               Feid  278920007\n",
      "4                                     Nonsense  Sabrina Carpenter  342897938\n",
      "..                                         ...                ...        ...\n",
      "90                              Mi Bello Angel      Natanael Cano   31873544\n",
      "91                               Feliz Navidad    Josï¿½ï¿½ Felic  520034544\n",
      "92                                   Super Shy           NewJeans   58255150\n",
      "93                         Cool for the Summer        Demi Lovato  677389855\n",
      "94  Evergreen (You Didnï¿½ï¿½ï¿½t Deserve Me A        Omar Apollo  227918678\n",
      "\n",
      "[953 rows x 3 columns]\n"
     ]
    }
   ],
   "source": [
    "The_final_extraction = The_final_merge[['track_name', 'artist.s._name', 'streams']]\n",
    "\n",
    "print(The_final_extraction)"
   ]
  },
  {
   "cell_type": "code",
   "execution_count": 25,
   "metadata": {},
   "outputs": [
    {
     "name": "stdout",
     "output_type": "stream",
     "text": [
      "Requirement already satisfied: sqlitecloud in c:\\users\\bryan rowe\\appdata\\local\\programs\\python\\python312\\lib\\site-packages (0.0.83)\n",
      "Requirement already satisfied: lz4>=3.1.10 in c:\\users\\bryan rowe\\appdata\\local\\programs\\python\\python312\\lib\\site-packages (from sqlitecloud) (4.3.3)\n",
      "Note: you may need to restart the kernel to use updated packages.\n"
     ]
    },
    {
     "name": "stderr",
     "output_type": "stream",
     "text": [
      "WARNING: Error parsing dependencies of textract: .* suffix can only be used with `==` or `!=` operators\n",
      "    extract-msg (<=0.29.*)\n",
      "                 ~~~~~~~^\n"
     ]
    }
   ],
   "source": [
    "pip install sqlitecloud"
   ]
  },
  {
   "cell_type": "code",
   "execution_count": 26,
   "metadata": {},
   "outputs": [],
   "source": [
    "import io"
   ]
  },
  {
   "cell_type": "code",
   "execution_count": 27,
   "metadata": {},
   "outputs": [],
   "source": [
    "import sqlitecloud"
   ]
  },
  {
   "cell_type": "code",
   "execution_count": 28,
   "metadata": {},
   "outputs": [],
   "source": [
    "conn = sqlitecloud.connect(\"sqlitecloud://cutggajrnk.sqlite.cloud:8860/Spotifystuff?apikey=P6MDqNpiO0ppuGnybsssYxbEqwi0npW9xb5brL4aKkE\")\n"
   ]
  },
  {
   "cell_type": "code",
   "execution_count": 29,
   "metadata": {},
   "outputs": [
    {
     "name": "stderr",
     "output_type": "stream",
     "text": [
      "C:\\Users\\Bryan Rowe\\AppData\\Local\\Temp\\ipykernel_17400\\82144684.py:1: UserWarning: pandas only supports SQLAlchemy connectable (engine/connection) or database string URI or sqlite3 DBAPI2 connection. Other DBAPI2 objects are not tested. Please consider using SQLAlchemy.\n",
      "  The_final_extraction.to_sql(\"Spotifystuff\", conn, index=False)\n"
     ]
    },
    {
     "ename": "SQLiteCloudOperationalError",
     "evalue": "table \"Spotifystuff\" already exists",
     "output_type": "error",
     "traceback": [
      "\u001b[1;31m---------------------------------------------------------------------------\u001b[0m",
      "\u001b[1;31mSQLiteCloudOperationalError\u001b[0m               Traceback (most recent call last)",
      "Cell \u001b[1;32mIn[29], line 1\u001b[0m\n\u001b[1;32m----> 1\u001b[0m \u001b[43mThe_final_extraction\u001b[49m\u001b[38;5;241;43m.\u001b[39;49m\u001b[43mto_sql\u001b[49m\u001b[43m(\u001b[49m\u001b[38;5;124;43m\"\u001b[39;49m\u001b[38;5;124;43mSpotifystuff\u001b[39;49m\u001b[38;5;124;43m\"\u001b[39;49m\u001b[43m,\u001b[49m\u001b[43m \u001b[49m\u001b[43mconn\u001b[49m\u001b[43m,\u001b[49m\u001b[43m \u001b[49m\u001b[43mindex\u001b[49m\u001b[38;5;241;43m=\u001b[39;49m\u001b[38;5;28;43;01mFalse\u001b[39;49;00m\u001b[43m)\u001b[49m\n",
      "File \u001b[1;32mc:\\Users\\Bryan Rowe\\AppData\\Local\\Programs\\Python\\Python312\\Lib\\site-packages\\pandas\\util\\_decorators.py:333\u001b[0m, in \u001b[0;36mdeprecate_nonkeyword_arguments.<locals>.decorate.<locals>.wrapper\u001b[1;34m(*args, **kwargs)\u001b[0m\n\u001b[0;32m    327\u001b[0m \u001b[38;5;28;01mif\u001b[39;00m \u001b[38;5;28mlen\u001b[39m(args) \u001b[38;5;241m>\u001b[39m num_allow_args:\n\u001b[0;32m    328\u001b[0m     warnings\u001b[38;5;241m.\u001b[39mwarn(\n\u001b[0;32m    329\u001b[0m         msg\u001b[38;5;241m.\u001b[39mformat(arguments\u001b[38;5;241m=\u001b[39m_format_argument_list(allow_args)),\n\u001b[0;32m    330\u001b[0m         \u001b[38;5;167;01mFutureWarning\u001b[39;00m,\n\u001b[0;32m    331\u001b[0m         stacklevel\u001b[38;5;241m=\u001b[39mfind_stack_level(),\n\u001b[0;32m    332\u001b[0m     )\n\u001b[1;32m--> 333\u001b[0m \u001b[38;5;28;01mreturn\u001b[39;00m \u001b[43mfunc\u001b[49m\u001b[43m(\u001b[49m\u001b[38;5;241;43m*\u001b[39;49m\u001b[43margs\u001b[49m\u001b[43m,\u001b[49m\u001b[43m \u001b[49m\u001b[38;5;241;43m*\u001b[39;49m\u001b[38;5;241;43m*\u001b[39;49m\u001b[43mkwargs\u001b[49m\u001b[43m)\u001b[49m\n",
      "File \u001b[1;32mc:\\Users\\Bryan Rowe\\AppData\\Local\\Programs\\Python\\Python312\\Lib\\site-packages\\pandas\\core\\generic.py:3084\u001b[0m, in \u001b[0;36mNDFrame.to_sql\u001b[1;34m(self, name, con, schema, if_exists, index, index_label, chunksize, dtype, method)\u001b[0m\n\u001b[0;32m   2886\u001b[0m \u001b[38;5;250m\u001b[39m\u001b[38;5;124;03m\"\"\"\u001b[39;00m\n\u001b[0;32m   2887\u001b[0m \u001b[38;5;124;03mWrite records stored in a DataFrame to a SQL database.\u001b[39;00m\n\u001b[0;32m   2888\u001b[0m \n\u001b[1;32m   (...)\u001b[0m\n\u001b[0;32m   3080\u001b[0m \u001b[38;5;124;03m[(1,), (None,), (2,)]\u001b[39;00m\n\u001b[0;32m   3081\u001b[0m \u001b[38;5;124;03m\"\"\"\u001b[39;00m  \u001b[38;5;66;03m# noqa: E501\u001b[39;00m\n\u001b[0;32m   3082\u001b[0m \u001b[38;5;28;01mfrom\u001b[39;00m \u001b[38;5;21;01mpandas\u001b[39;00m\u001b[38;5;21;01m.\u001b[39;00m\u001b[38;5;21;01mio\u001b[39;00m \u001b[38;5;28;01mimport\u001b[39;00m sql\n\u001b[1;32m-> 3084\u001b[0m \u001b[38;5;28;01mreturn\u001b[39;00m \u001b[43msql\u001b[49m\u001b[38;5;241;43m.\u001b[39;49m\u001b[43mto_sql\u001b[49m\u001b[43m(\u001b[49m\n\u001b[0;32m   3085\u001b[0m \u001b[43m    \u001b[49m\u001b[38;5;28;43mself\u001b[39;49m\u001b[43m,\u001b[49m\n\u001b[0;32m   3086\u001b[0m \u001b[43m    \u001b[49m\u001b[43mname\u001b[49m\u001b[43m,\u001b[49m\n\u001b[0;32m   3087\u001b[0m \u001b[43m    \u001b[49m\u001b[43mcon\u001b[49m\u001b[43m,\u001b[49m\n\u001b[0;32m   3088\u001b[0m \u001b[43m    \u001b[49m\u001b[43mschema\u001b[49m\u001b[38;5;241;43m=\u001b[39;49m\u001b[43mschema\u001b[49m\u001b[43m,\u001b[49m\n\u001b[0;32m   3089\u001b[0m \u001b[43m    \u001b[49m\u001b[43mif_exists\u001b[49m\u001b[38;5;241;43m=\u001b[39;49m\u001b[43mif_exists\u001b[49m\u001b[43m,\u001b[49m\n\u001b[0;32m   3090\u001b[0m \u001b[43m    \u001b[49m\u001b[43mindex\u001b[49m\u001b[38;5;241;43m=\u001b[39;49m\u001b[43mindex\u001b[49m\u001b[43m,\u001b[49m\n\u001b[0;32m   3091\u001b[0m \u001b[43m    \u001b[49m\u001b[43mindex_label\u001b[49m\u001b[38;5;241;43m=\u001b[39;49m\u001b[43mindex_label\u001b[49m\u001b[43m,\u001b[49m\n\u001b[0;32m   3092\u001b[0m \u001b[43m    \u001b[49m\u001b[43mchunksize\u001b[49m\u001b[38;5;241;43m=\u001b[39;49m\u001b[43mchunksize\u001b[49m\u001b[43m,\u001b[49m\n\u001b[0;32m   3093\u001b[0m \u001b[43m    \u001b[49m\u001b[43mdtype\u001b[49m\u001b[38;5;241;43m=\u001b[39;49m\u001b[43mdtype\u001b[49m\u001b[43m,\u001b[49m\n\u001b[0;32m   3094\u001b[0m \u001b[43m    \u001b[49m\u001b[43mmethod\u001b[49m\u001b[38;5;241;43m=\u001b[39;49m\u001b[43mmethod\u001b[49m\u001b[43m,\u001b[49m\n\u001b[0;32m   3095\u001b[0m \u001b[43m\u001b[49m\u001b[43m)\u001b[49m\n",
      "File \u001b[1;32mc:\\Users\\Bryan Rowe\\AppData\\Local\\Programs\\Python\\Python312\\Lib\\site-packages\\pandas\\io\\sql.py:842\u001b[0m, in \u001b[0;36mto_sql\u001b[1;34m(frame, name, con, schema, if_exists, index, index_label, chunksize, dtype, method, engine, **engine_kwargs)\u001b[0m\n\u001b[0;32m    837\u001b[0m     \u001b[38;5;28;01mraise\u001b[39;00m \u001b[38;5;167;01mNotImplementedError\u001b[39;00m(\n\u001b[0;32m    838\u001b[0m         \u001b[38;5;124m\"\u001b[39m\u001b[38;5;124m'\u001b[39m\u001b[38;5;124mframe\u001b[39m\u001b[38;5;124m'\u001b[39m\u001b[38;5;124m argument should be either a Series or a DataFrame\u001b[39m\u001b[38;5;124m\"\u001b[39m\n\u001b[0;32m    839\u001b[0m     )\n\u001b[0;32m    841\u001b[0m \u001b[38;5;28;01mwith\u001b[39;00m pandasSQL_builder(con, schema\u001b[38;5;241m=\u001b[39mschema, need_transaction\u001b[38;5;241m=\u001b[39m\u001b[38;5;28;01mTrue\u001b[39;00m) \u001b[38;5;28;01mas\u001b[39;00m pandas_sql:\n\u001b[1;32m--> 842\u001b[0m     \u001b[38;5;28;01mreturn\u001b[39;00m \u001b[43mpandas_sql\u001b[49m\u001b[38;5;241;43m.\u001b[39;49m\u001b[43mto_sql\u001b[49m\u001b[43m(\u001b[49m\n\u001b[0;32m    843\u001b[0m \u001b[43m        \u001b[49m\u001b[43mframe\u001b[49m\u001b[43m,\u001b[49m\n\u001b[0;32m    844\u001b[0m \u001b[43m        \u001b[49m\u001b[43mname\u001b[49m\u001b[43m,\u001b[49m\n\u001b[0;32m    845\u001b[0m \u001b[43m        \u001b[49m\u001b[43mif_exists\u001b[49m\u001b[38;5;241;43m=\u001b[39;49m\u001b[43mif_exists\u001b[49m\u001b[43m,\u001b[49m\n\u001b[0;32m    846\u001b[0m \u001b[43m        \u001b[49m\u001b[43mindex\u001b[49m\u001b[38;5;241;43m=\u001b[39;49m\u001b[43mindex\u001b[49m\u001b[43m,\u001b[49m\n\u001b[0;32m    847\u001b[0m \u001b[43m        \u001b[49m\u001b[43mindex_label\u001b[49m\u001b[38;5;241;43m=\u001b[39;49m\u001b[43mindex_label\u001b[49m\u001b[43m,\u001b[49m\n\u001b[0;32m    848\u001b[0m \u001b[43m        \u001b[49m\u001b[43mschema\u001b[49m\u001b[38;5;241;43m=\u001b[39;49m\u001b[43mschema\u001b[49m\u001b[43m,\u001b[49m\n\u001b[0;32m    849\u001b[0m \u001b[43m        \u001b[49m\u001b[43mchunksize\u001b[49m\u001b[38;5;241;43m=\u001b[39;49m\u001b[43mchunksize\u001b[49m\u001b[43m,\u001b[49m\n\u001b[0;32m    850\u001b[0m \u001b[43m        \u001b[49m\u001b[43mdtype\u001b[49m\u001b[38;5;241;43m=\u001b[39;49m\u001b[43mdtype\u001b[49m\u001b[43m,\u001b[49m\n\u001b[0;32m    851\u001b[0m \u001b[43m        \u001b[49m\u001b[43mmethod\u001b[49m\u001b[38;5;241;43m=\u001b[39;49m\u001b[43mmethod\u001b[49m\u001b[43m,\u001b[49m\n\u001b[0;32m    852\u001b[0m \u001b[43m        \u001b[49m\u001b[43mengine\u001b[49m\u001b[38;5;241;43m=\u001b[39;49m\u001b[43mengine\u001b[49m\u001b[43m,\u001b[49m\n\u001b[0;32m    853\u001b[0m \u001b[43m        \u001b[49m\u001b[38;5;241;43m*\u001b[39;49m\u001b[38;5;241;43m*\u001b[39;49m\u001b[43mengine_kwargs\u001b[49m\u001b[43m,\u001b[49m\n\u001b[0;32m    854\u001b[0m \u001b[43m    \u001b[49m\u001b[43m)\u001b[49m\n",
      "File \u001b[1;32mc:\\Users\\Bryan Rowe\\AppData\\Local\\Programs\\Python\\Python312\\Lib\\site-packages\\pandas\\io\\sql.py:2848\u001b[0m, in \u001b[0;36mSQLiteDatabase.to_sql\u001b[1;34m(self, frame, name, if_exists, index, index_label, schema, chunksize, dtype, method, engine, **engine_kwargs)\u001b[0m\n\u001b[0;32m   2837\u001b[0m             \u001b[38;5;28;01mraise\u001b[39;00m \u001b[38;5;167;01mValueError\u001b[39;00m(\u001b[38;5;124mf\u001b[39m\u001b[38;5;124m\"\u001b[39m\u001b[38;5;132;01m{\u001b[39;00mcol\u001b[38;5;132;01m}\u001b[39;00m\u001b[38;5;124m (\u001b[39m\u001b[38;5;132;01m{\u001b[39;00mmy_type\u001b[38;5;132;01m}\u001b[39;00m\u001b[38;5;124m) not a string\u001b[39m\u001b[38;5;124m\"\u001b[39m)\n\u001b[0;32m   2839\u001b[0m table \u001b[38;5;241m=\u001b[39m SQLiteTable(\n\u001b[0;32m   2840\u001b[0m     name,\n\u001b[0;32m   2841\u001b[0m     \u001b[38;5;28mself\u001b[39m,\n\u001b[1;32m   (...)\u001b[0m\n\u001b[0;32m   2846\u001b[0m     dtype\u001b[38;5;241m=\u001b[39mdtype,\n\u001b[0;32m   2847\u001b[0m )\n\u001b[1;32m-> 2848\u001b[0m \u001b[43mtable\u001b[49m\u001b[38;5;241;43m.\u001b[39;49m\u001b[43mcreate\u001b[49m\u001b[43m(\u001b[49m\u001b[43m)\u001b[49m\n\u001b[0;32m   2849\u001b[0m \u001b[38;5;28;01mreturn\u001b[39;00m table\u001b[38;5;241m.\u001b[39minsert(chunksize, method)\n",
      "File \u001b[1;32mc:\\Users\\Bryan Rowe\\AppData\\Local\\Programs\\Python\\Python312\\Lib\\site-packages\\pandas\\io\\sql.py:995\u001b[0m, in \u001b[0;36mSQLTable.create\u001b[1;34m(self)\u001b[0m\n\u001b[0;32m    993\u001b[0m         \u001b[38;5;28;01mraise\u001b[39;00m \u001b[38;5;167;01mValueError\u001b[39;00m(\u001b[38;5;124mf\u001b[39m\u001b[38;5;124m\"\u001b[39m\u001b[38;5;124m'\u001b[39m\u001b[38;5;132;01m{\u001b[39;00m\u001b[38;5;28mself\u001b[39m\u001b[38;5;241m.\u001b[39mif_exists\u001b[38;5;132;01m}\u001b[39;00m\u001b[38;5;124m'\u001b[39m\u001b[38;5;124m is not valid for if_exists\u001b[39m\u001b[38;5;124m\"\u001b[39m)\n\u001b[0;32m    994\u001b[0m \u001b[38;5;28;01melse\u001b[39;00m:\n\u001b[1;32m--> 995\u001b[0m     \u001b[38;5;28;43mself\u001b[39;49m\u001b[38;5;241;43m.\u001b[39;49m\u001b[43m_execute_create\u001b[49m\u001b[43m(\u001b[49m\u001b[43m)\u001b[49m\n",
      "File \u001b[1;32mc:\\Users\\Bryan Rowe\\AppData\\Local\\Programs\\Python\\Python312\\Lib\\site-packages\\pandas\\io\\sql.py:2522\u001b[0m, in \u001b[0;36mSQLiteTable._execute_create\u001b[1;34m(self)\u001b[0m\n\u001b[0;32m   2520\u001b[0m \u001b[38;5;28;01mwith\u001b[39;00m \u001b[38;5;28mself\u001b[39m\u001b[38;5;241m.\u001b[39mpd_sql\u001b[38;5;241m.\u001b[39mrun_transaction() \u001b[38;5;28;01mas\u001b[39;00m conn:\n\u001b[0;32m   2521\u001b[0m     \u001b[38;5;28;01mfor\u001b[39;00m stmt \u001b[38;5;129;01min\u001b[39;00m \u001b[38;5;28mself\u001b[39m\u001b[38;5;241m.\u001b[39mtable:\n\u001b[1;32m-> 2522\u001b[0m         \u001b[43mconn\u001b[49m\u001b[38;5;241;43m.\u001b[39;49m\u001b[43mexecute\u001b[49m\u001b[43m(\u001b[49m\u001b[43mstmt\u001b[49m\u001b[43m)\u001b[49m\n",
      "File \u001b[1;32mc:\\Users\\Bryan Rowe\\AppData\\Local\\Programs\\Python\\Python312\\Lib\\site-packages\\sqlitecloud\\dbapi2.py:583\u001b[0m, in \u001b[0;36mCursor.execute\u001b[1;34m(self, sql, parameters)\u001b[0m\n\u001b[0;32m    580\u001b[0m \u001b[38;5;28;01mif\u001b[39;00m \u001b[38;5;28misinstance\u001b[39m(parameters, \u001b[38;5;28mdict\u001b[39m):\n\u001b[0;32m    581\u001b[0m     parameters \u001b[38;5;241m=\u001b[39m \u001b[38;5;28mself\u001b[39m\u001b[38;5;241m.\u001b[39m_named_to_question_mark_parameters(sql, parameters)\n\u001b[1;32m--> 583\u001b[0m result \u001b[38;5;241m=\u001b[39m \u001b[38;5;28;43mself\u001b[39;49m\u001b[38;5;241;43m.\u001b[39;49m\u001b[43m_driver\u001b[49m\u001b[38;5;241;43m.\u001b[39;49m\u001b[43mexecute_statement\u001b[49m\u001b[43m(\u001b[49m\n\u001b[0;32m    584\u001b[0m \u001b[43m    \u001b[49m\u001b[43msql\u001b[49m\u001b[43m,\u001b[49m\u001b[43m \u001b[49m\u001b[43mparameters\u001b[49m\u001b[43m,\u001b[49m\u001b[43m \u001b[49m\u001b[38;5;28;43mself\u001b[39;49m\u001b[38;5;241;43m.\u001b[39;49m\u001b[43mconnection\u001b[49m\u001b[38;5;241;43m.\u001b[39;49m\u001b[43msqlitecloud_connection\u001b[49m\n\u001b[0;32m    585\u001b[0m \u001b[43m\u001b[49m\u001b[43m)\u001b[49m\n\u001b[0;32m    587\u001b[0m \u001b[38;5;28mself\u001b[39m\u001b[38;5;241m.\u001b[39m_resultset \u001b[38;5;241m=\u001b[39m \u001b[38;5;28;01mNone\u001b[39;00m\n\u001b[0;32m    588\u001b[0m \u001b[38;5;28mself\u001b[39m\u001b[38;5;241m.\u001b[39m_result_operation \u001b[38;5;241m=\u001b[39m \u001b[38;5;28;01mNone\u001b[39;00m\n",
      "File \u001b[1;32mc:\\Users\\Bryan Rowe\\AppData\\Local\\Programs\\Python\\Python312\\Lib\\site-packages\\sqlitecloud\\driver.py:109\u001b[0m, in \u001b[0;36mDriver.execute_statement\u001b[1;34m(self, query, bindings, connection)\u001b[0m\n\u001b[0;32m    101\u001b[0m \u001b[38;5;250m\u001b[39m\u001b[38;5;124;03m\"\"\"\u001b[39;00m\n\u001b[0;32m    102\u001b[0m \u001b[38;5;124;03mExecute the statement on the SQLite Cloud server.\u001b[39;00m\n\u001b[0;32m    103\u001b[0m \u001b[38;5;124;03mIt supports only the `qmark` style for parameter binding.\u001b[39;00m\n\u001b[0;32m    104\u001b[0m \u001b[38;5;124;03m\"\"\"\u001b[39;00m\n\u001b[0;32m    105\u001b[0m command \u001b[38;5;241m=\u001b[39m \u001b[38;5;28mself\u001b[39m\u001b[38;5;241m.\u001b[39m_internal_serialize_command(\n\u001b[0;32m    106\u001b[0m     [query] \u001b[38;5;241m+\u001b[39m \u001b[38;5;28mlist\u001b[39m(bindings), zero_string\u001b[38;5;241m=\u001b[39m\u001b[38;5;28;01mTrue\u001b[39;00m\n\u001b[0;32m    107\u001b[0m )\n\u001b[1;32m--> 109\u001b[0m result \u001b[38;5;241m=\u001b[39m \u001b[38;5;28;43mself\u001b[39;49m\u001b[38;5;241;43m.\u001b[39;49m\u001b[43m_internal_run_command\u001b[49m\u001b[43m(\u001b[49m\u001b[43mconnection\u001b[49m\u001b[43m,\u001b[49m\u001b[43m \u001b[49m\u001b[43mcommand\u001b[49m\u001b[43m)\u001b[49m\n\u001b[0;32m    111\u001b[0m \u001b[38;5;28;01mif\u001b[39;00m result\u001b[38;5;241m.\u001b[39mtag \u001b[38;5;241m!=\u001b[39m SQLITECLOUD_RESULT_TYPE\u001b[38;5;241m.\u001b[39mRESULT_ARRAY:\n\u001b[0;32m    112\u001b[0m     \u001b[38;5;28;01mreturn\u001b[39;00m result\n",
      "File \u001b[1;32mc:\\Users\\Bryan Rowe\\AppData\\Local\\Programs\\Python\\Python312\\Lib\\site-packages\\sqlitecloud\\driver.py:482\u001b[0m, in \u001b[0;36mDriver._internal_run_command\u001b[1;34m(self, connection, command, main_socket)\u001b[0m\n\u001b[0;32m    476\u001b[0m     \u001b[38;5;28;01mraise\u001b[39;00m SQLiteCloudException(\n\u001b[0;32m    477\u001b[0m         \u001b[38;5;124m\"\u001b[39m\u001b[38;5;124mThe connection is closed.\u001b[39m\u001b[38;5;124m\"\u001b[39m,\n\u001b[0;32m    478\u001b[0m         SQLITECLOUD_INTERNAL_ERRCODE\u001b[38;5;241m.\u001b[39mNETWORK,\n\u001b[0;32m    479\u001b[0m     )\n\u001b[0;32m    481\u001b[0m \u001b[38;5;28mself\u001b[39m\u001b[38;5;241m.\u001b[39m_internal_socket_write(connection, command, main_socket)\n\u001b[1;32m--> 482\u001b[0m \u001b[38;5;28;01mreturn\u001b[39;00m \u001b[38;5;28;43mself\u001b[39;49m\u001b[38;5;241;43m.\u001b[39;49m\u001b[43m_internal_socket_read\u001b[49m\u001b[43m(\u001b[49m\u001b[43mconnection\u001b[49m\u001b[43m,\u001b[49m\u001b[43m \u001b[49m\u001b[43mmain_socket\u001b[49m\u001b[43m)\u001b[49m\n",
      "File \u001b[1;32mc:\\Users\\Bryan Rowe\\AppData\\Local\\Programs\\Python\\Python312\\Lib\\site-packages\\sqlitecloud\\driver.py:590\u001b[0m, in \u001b[0;36mDriver._internal_socket_read\u001b[1;34m(self, connection, main_socket)\u001b[0m\n\u001b[0;32m    587\u001b[0m     nread \u001b[38;5;241m+\u001b[39m\u001b[38;5;241m=\u001b[39m \u001b[38;5;28mlen\u001b[39m(data)\n\u001b[0;32m    588\u001b[0m     buffer \u001b[38;5;241m+\u001b[39m\u001b[38;5;241m=\u001b[39m data\n\u001b[1;32m--> 590\u001b[0m \u001b[38;5;28;01mreturn\u001b[39;00m \u001b[38;5;28;43mself\u001b[39;49m\u001b[38;5;241;43m.\u001b[39;49m\u001b[43m_internal_parse_buffer\u001b[49m\u001b[43m(\u001b[49m\u001b[43mconnection\u001b[49m\u001b[43m,\u001b[49m\u001b[43m \u001b[49m\u001b[43mbuffer\u001b[49m\u001b[43m,\u001b[49m\u001b[43m \u001b[49m\u001b[38;5;28;43mlen\u001b[39;49m\u001b[43m(\u001b[49m\u001b[43mbuffer\u001b[49m\u001b[43m)\u001b[49m\u001b[43m)\u001b[49m\n",
      "File \u001b[1;32mc:\\Users\\Bryan Rowe\\AppData\\Local\\Programs\\Python\\Python312\\Lib\\site-packages\\sqlitecloud\\driver.py:731\u001b[0m, in \u001b[0;36mDriver._internal_parse_buffer\u001b[1;34m(self, connection, buffer, blen)\u001b[0m\n\u001b[0;32m    728\u001b[0m     len_ \u001b[38;5;241m-\u001b[39m\u001b[38;5;241m=\u001b[39m cstart2\n\u001b[0;32m    729\u001b[0m     errmsg \u001b[38;5;241m=\u001b[39m clone[cstart2:]\n\u001b[1;32m--> 731\u001b[0m     \u001b[38;5;28;01mraise\u001b[39;00m get_sqlitecloud_error_with_extended_code(\n\u001b[0;32m    732\u001b[0m         errmsg\u001b[38;5;241m.\u001b[39mdecode(), errcode, xerrcode\n\u001b[0;32m    733\u001b[0m     )(errmsg\u001b[38;5;241m.\u001b[39mdecode(), errcode, xerrcode)\n\u001b[0;32m    735\u001b[0m \u001b[38;5;28;01melif\u001b[39;00m cmd \u001b[38;5;129;01min\u001b[39;00m [SQLITECLOUD_CMD\u001b[38;5;241m.\u001b[39mROWSET\u001b[38;5;241m.\u001b[39mvalue, SQLITECLOUD_CMD\u001b[38;5;241m.\u001b[39mROWSET_CHUNK\u001b[38;5;241m.\u001b[39mvalue]:\n\u001b[0;32m    736\u001b[0m     \u001b[38;5;66;03m# CMD_ROWSET:          *LEN 0:VERSION ROWS COLS DATA\u001b[39;00m\n\u001b[0;32m    737\u001b[0m     \u001b[38;5;66;03m# - When decompressed, LEN for ROWSET is *0\u001b[39;00m\n\u001b[0;32m    738\u001b[0m     \u001b[38;5;66;03m#\u001b[39;00m\n\u001b[0;32m    739\u001b[0m     \u001b[38;5;66;03m# CMD_ROWSET_CHUNK:    /LEN IDX:VERSION ROWS COLS DATA\u001b[39;00m\n\u001b[0;32m    740\u001b[0m     \u001b[38;5;66;03m#\u001b[39;00m\n\u001b[0;32m    741\u001b[0m     rowset_signature \u001b[38;5;241m=\u001b[39m \u001b[38;5;28mself\u001b[39m\u001b[38;5;241m.\u001b[39m_internal_parse_rowset_signature(buffer)\n",
      "\u001b[1;31mSQLiteCloudOperationalError\u001b[0m: table \"Spotifystuff\" already exists"
     ]
    }
   ],
   "source": [
    "The_final_extraction.to_sql(\"Spotifystuff\", conn, index=False)"
   ]
  },
  {
   "cell_type": "code",
   "execution_count": 30,
   "metadata": {},
   "outputs": [
    {
     "name": "stdout",
     "output_type": "stream",
     "text": [
      "                                     track_name     artist.s._name    streams\n",
      "0                                  Don't Be Shy   Tiï¿½ï¿½sto, Kar  566954746\n",
      "1                           Permission to Dance                BTS  608334048\n",
      "2                                          2055      Sleepy hallow  624515457\n",
      "3                                    Ferxxo 100               Feid  278920007\n",
      "4                                      Nonsense  Sabrina Carpenter  342897938\n",
      "..                                          ...                ...        ...\n",
      "948                              Mi Bello Angel      Natanael Cano   31873544\n",
      "949                               Feliz Navidad    Josï¿½ï¿½ Felic  520034544\n",
      "950                                   Super Shy           NewJeans   58255150\n",
      "951                         Cool for the Summer        Demi Lovato  677389855\n",
      "952  Evergreen (You Didnï¿½ï¿½ï¿½t Deserve Me A        Omar Apollo  227918678\n",
      "\n",
      "[953 rows x 3 columns]\n"
     ]
    },
    {
     "name": "stderr",
     "output_type": "stream",
     "text": [
      "C:\\Users\\Bryan Rowe\\AppData\\Local\\Temp\\ipykernel_17400\\1038306377.py:1: UserWarning: pandas only supports SQLAlchemy connectable (engine/connection) or database string URI or sqlite3 DBAPI2 connection. Other DBAPI2 objects are not tested. Please consider using SQLAlchemy.\n",
      "  Double_checking=pd.read_sql(\"SELECT * FROM Spotifystuff\", conn)\n"
     ]
    }
   ],
   "source": [
    "Double_checking=pd.read_sql(\"SELECT * FROM Spotifystuff\", conn)\n",
    "\n",
    "print(Double_checking)"
   ]
  },
  {
   "cell_type": "code",
   "execution_count": 31,
   "metadata": {},
   "outputs": [
    {
     "name": "stdout",
     "output_type": "stream",
     "text": [
      "Requirement already satisfied: streamlit in c:\\users\\bryan rowe\\appdata\\local\\programs\\python\\python312\\lib\\site-packages (1.38.0)\n",
      "Requirement already satisfied: altair<6,>=4.0 in c:\\users\\bryan rowe\\appdata\\local\\programs\\python\\python312\\lib\\site-packages (from streamlit) (5.4.1)\n",
      "Requirement already satisfied: blinker<2,>=1.0.0 in c:\\users\\bryan rowe\\appdata\\local\\programs\\python\\python312\\lib\\site-packages (from streamlit) (1.8.2)\n",
      "Requirement already satisfied: cachetools<6,>=4.0 in c:\\users\\bryan rowe\\appdata\\local\\programs\\python\\python312\\lib\\site-packages (from streamlit) (5.3.3)\n",
      "Requirement already satisfied: click<9,>=7.0 in c:\\users\\bryan rowe\\appdata\\local\\programs\\python\\python312\\lib\\site-packages (from streamlit) (8.1.7)\n",
      "Requirement already satisfied: numpy<3,>=1.20 in c:\\users\\bryan rowe\\appdata\\local\\programs\\python\\python312\\lib\\site-packages (from streamlit) (1.26.4)\n",
      "Requirement already satisfied: packaging<25,>=20 in c:\\users\\bryan rowe\\appdata\\roaming\\python\\python312\\site-packages (from streamlit) (24.1)\n",
      "Requirement already satisfied: pandas<3,>=1.3.0 in c:\\users\\bryan rowe\\appdata\\local\\programs\\python\\python312\\lib\\site-packages (from streamlit) (2.2.1)\n",
      "Requirement already satisfied: pillow<11,>=7.1.0 in c:\\users\\bryan rowe\\appdata\\local\\programs\\python\\python312\\lib\\site-packages (from streamlit) (10.3.0)\n",
      "Requirement already satisfied: protobuf<6,>=3.20 in c:\\users\\bryan rowe\\appdata\\local\\programs\\python\\python312\\lib\\site-packages (from streamlit) (4.25.3)\n",
      "Requirement already satisfied: pyarrow>=7.0 in c:\\users\\bryan rowe\\appdata\\local\\programs\\python\\python312\\lib\\site-packages (from streamlit) (17.0.0)\n",
      "Requirement already satisfied: requests<3,>=2.27 in c:\\users\\bryan rowe\\appdata\\local\\programs\\python\\python312\\lib\\site-packages (from streamlit) (2.31.0)\n",
      "Requirement already satisfied: rich<14,>=10.14.0 in c:\\users\\bryan rowe\\appdata\\local\\programs\\python\\python312\\lib\\site-packages (from streamlit) (13.7.1)\n",
      "Requirement already satisfied: tenacity<9,>=8.1.0 in c:\\users\\bryan rowe\\appdata\\local\\programs\\python\\python312\\lib\\site-packages (from streamlit) (8.5.0)\n",
      "Requirement already satisfied: toml<2,>=0.10.1 in c:\\users\\bryan rowe\\appdata\\local\\programs\\python\\python312\\lib\\site-packages (from streamlit) (0.10.2)\n",
      "Requirement already satisfied: typing-extensions<5,>=4.3.0 in c:\\users\\bryan rowe\\appdata\\local\\programs\\python\\python312\\lib\\site-packages (from streamlit) (4.12.2)\n",
      "Requirement already satisfied: gitpython!=3.1.19,<4,>=3.0.7 in c:\\users\\bryan rowe\\appdata\\local\\programs\\python\\python312\\lib\\site-packages (from streamlit) (3.1.43)\n",
      "Requirement already satisfied: pydeck<1,>=0.8.0b4 in c:\\users\\bryan rowe\\appdata\\local\\programs\\python\\python312\\lib\\site-packages (from streamlit) (0.9.1)\n",
      "Requirement already satisfied: tornado<7,>=6.0.3 in c:\\users\\bryan rowe\\appdata\\roaming\\python\\python312\\site-packages (from streamlit) (6.4.1)\n",
      "Requirement already satisfied: watchdog<5,>=2.1.5 in c:\\users\\bryan rowe\\appdata\\local\\programs\\python\\python312\\lib\\site-packages (from streamlit) (4.0.2)\n",
      "Requirement already satisfied: jinja2 in c:\\users\\bryan rowe\\appdata\\local\\programs\\python\\python312\\lib\\site-packages (from altair<6,>=4.0->streamlit) (3.1.4)\n",
      "Requirement already satisfied: jsonschema>=3.0 in c:\\users\\bryan rowe\\appdata\\local\\programs\\python\\python312\\lib\\site-packages (from altair<6,>=4.0->streamlit) (4.23.0)\n",
      "Requirement already satisfied: narwhals>=1.5.2 in c:\\users\\bryan rowe\\appdata\\local\\programs\\python\\python312\\lib\\site-packages (from altair<6,>=4.0->streamlit) (1.8.4)\n",
      "Requirement already satisfied: colorama in c:\\users\\bryan rowe\\appdata\\roaming\\python\\python312\\site-packages (from click<9,>=7.0->streamlit) (0.4.6)\n",
      "Requirement already satisfied: gitdb<5,>=4.0.1 in c:\\users\\bryan rowe\\appdata\\local\\programs\\python\\python312\\lib\\site-packages (from gitpython!=3.1.19,<4,>=3.0.7->streamlit) (4.0.11)\n",
      "Requirement already satisfied: python-dateutil>=2.8.2 in c:\\users\\bryan rowe\\appdata\\roaming\\python\\python312\\site-packages (from pandas<3,>=1.3.0->streamlit) (2.9.0.post0)\n",
      "Requirement already satisfied: pytz>=2020.1 in c:\\users\\bryan rowe\\appdata\\local\\programs\\python\\python312\\lib\\site-packages (from pandas<3,>=1.3.0->streamlit) (2024.1)\n",
      "Requirement already satisfied: tzdata>=2022.7 in c:\\users\\bryan rowe\\appdata\\local\\programs\\python\\python312\\lib\\site-packages (from pandas<3,>=1.3.0->streamlit) (2024.1)\n",
      "Requirement already satisfied: charset-normalizer<4,>=2 in c:\\users\\bryan rowe\\appdata\\local\\programs\\python\\python312\\lib\\site-packages (from requests<3,>=2.27->streamlit) (3.3.2)\n",
      "Requirement already satisfied: idna<4,>=2.5 in c:\\users\\bryan rowe\\appdata\\local\\programs\\python\\python312\\lib\\site-packages (from requests<3,>=2.27->streamlit) (3.7)\n",
      "Requirement already satisfied: urllib3<3,>=1.21.1 in c:\\users\\bryan rowe\\appdata\\local\\programs\\python\\python312\\lib\\site-packages (from requests<3,>=2.27->streamlit) (1.26.19)\n",
      "Requirement already satisfied: certifi>=2017.4.17 in c:\\users\\bryan rowe\\appdata\\local\\programs\\python\\python312\\lib\\site-packages (from requests<3,>=2.27->streamlit) (2024.7.4)\n",
      "Requirement already satisfied: markdown-it-py>=2.2.0 in c:\\users\\bryan rowe\\appdata\\local\\programs\\python\\python312\\lib\\site-packages (from rich<14,>=10.14.0->streamlit) (3.0.0)\n",
      "Requirement already satisfied: pygments<3.0.0,>=2.13.0 in c:\\users\\bryan rowe\\appdata\\roaming\\python\\python312\\site-packages (from rich<14,>=10.14.0->streamlit) (2.18.0)\n",
      "Requirement already satisfied: smmap<6,>=3.0.1 in c:\\users\\bryan rowe\\appdata\\local\\programs\\python\\python312\\lib\\site-packages (from gitdb<5,>=4.0.1->gitpython!=3.1.19,<4,>=3.0.7->streamlit) (5.0.1)\n",
      "Requirement already satisfied: MarkupSafe>=2.0 in c:\\users\\bryan rowe\\appdata\\local\\programs\\python\\python312\\lib\\site-packages (from jinja2->altair<6,>=4.0->streamlit) (2.1.5)\n",
      "Requirement already satisfied: attrs>=22.2.0 in c:\\users\\bryan rowe\\appdata\\local\\programs\\python\\python312\\lib\\site-packages (from jsonschema>=3.0->altair<6,>=4.0->streamlit) (23.2.0)\n",
      "Requirement already satisfied: jsonschema-specifications>=2023.03.6 in c:\\users\\bryan rowe\\appdata\\local\\programs\\python\\python312\\lib\\site-packages (from jsonschema>=3.0->altair<6,>=4.0->streamlit) (2023.12.1)\n",
      "Requirement already satisfied: referencing>=0.28.4 in c:\\users\\bryan rowe\\appdata\\local\\programs\\python\\python312\\lib\\site-packages (from jsonschema>=3.0->altair<6,>=4.0->streamlit) (0.35.1)\n",
      "Requirement already satisfied: rpds-py>=0.7.1 in c:\\users\\bryan rowe\\appdata\\local\\programs\\python\\python312\\lib\\site-packages (from jsonschema>=3.0->altair<6,>=4.0->streamlit) (0.19.0)\n",
      "Requirement already satisfied: mdurl~=0.1 in c:\\users\\bryan rowe\\appdata\\local\\programs\\python\\python312\\lib\\site-packages (from markdown-it-py>=2.2.0->rich<14,>=10.14.0->streamlit) (0.1.2)\n",
      "Requirement already satisfied: six>=1.5 in c:\\users\\bryan rowe\\appdata\\roaming\\python\\python312\\site-packages (from python-dateutil>=2.8.2->pandas<3,>=1.3.0->streamlit) (1.16.0)\n",
      "Note: you may need to restart the kernel to use updated packages.\n"
     ]
    },
    {
     "name": "stderr",
     "output_type": "stream",
     "text": [
      "WARNING: Error parsing dependencies of textract: .* suffix can only be used with `==` or `!=` operators\n",
      "    extract-msg (<=0.29.*)\n",
      "                 ~~~~~~~^\n"
     ]
    }
   ],
   "source": [
    "pip install streamlit\n"
   ]
  },
  {
   "cell_type": "code",
   "execution_count": 33,
   "metadata": {},
   "outputs": [],
   "source": [
    "import streamlit as st\n",
    " "
   ]
  },
  {
   "cell_type": "code",
   "execution_count": 34,
   "metadata": {},
   "outputs": [
    {
     "name": "stderr",
     "output_type": "stream",
     "text": [
      "2024-10-02 13:22:47.656 Thread 'MainThread': missing ScriptRunContext! This warning can be ignored when running in bare mode.\n",
      "2024-10-02 13:22:47.656 Thread 'MainThread': missing ScriptRunContext! This warning can be ignored when running in bare mode.\n"
     ]
    },
    {
     "data": {
      "text/plain": [
       "DeltaGenerator()"
      ]
     },
     "execution_count": 34,
     "metadata": {},
     "output_type": "execute_result"
    }
   ],
   "source": [
    "st.bar_chart(data=Double_checking, x='track_name', y='streams', x_label='Name of track', y_label='Number of streams', color= None, horizontal=False, stack=False, width=False,\n",
    "height=False, use_container_width=True)"
   ]
  },
  {
   "cell_type": "code",
   "execution_count": 36,
   "metadata": {},
   "outputs": [
    {
     "name": "stdout",
     "output_type": "stream",
     "text": [
      "<bound method VegaChartsMixin.bar_chart of DeltaGenerator()>\n"
     ]
    }
   ],
   "source": [
    "print(st.bar_chart)"
   ]
  }
 ],
 "metadata": {
  "kernelspec": {
   "display_name": "Python 3",
   "language": "python",
   "name": "python3"
  },
  "language_info": {
   "codemirror_mode": {
    "name": "ipython",
    "version": 3
   },
   "file_extension": ".py",
   "mimetype": "text/x-python",
   "name": "python",
   "nbconvert_exporter": "python",
   "pygments_lexer": "ipython3",
   "version": "3.12.1"
  }
 },
 "nbformat": 4,
 "nbformat_minor": 2
}
